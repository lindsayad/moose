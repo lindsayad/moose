{
 "cells": [
  {
   "cell_type": "code",
   "execution_count": 1,
   "metadata": {},
   "outputs": [],
   "source": [
    "import numpy as np\n",
    "import matplotlib.pyplot as plt\n",
    "\n",
    "h_array = np.array([1, 2, 4, 8, 16])\n",
    "new_data_array = np.array([5.921576e-3, 1.319437e-3, 3.165080e-4, 7.818283e-5, 1.948337e-5])\n",
    "new_lambda_data_array = np.array([9.039907e0, 3.418373e0, 1.248978e0, 4.488196e-1, 1.599700e-1])\n",
    "old_data_array = np.array([4.161727e-2, 6.806352e-3, 1.160443e-3, 2.076028e-4, 3.884190e-5])\n",
    "old_lambda_data_array = np.array([7.396874e1, 3.593033e1, 1.766680e1, 8.789526e0, 4.390045e0])\n",
    "\n",
    "new_z = np.polyfit(np.log10(h_array), np.log10(new_data_array), 1)\n",
    "new_p = np.poly1d(new_z)\n",
    "plt.plot(np.log10(h_array), new_p(np.log10(h_array)), '-')\n",
    "new_equation = \"y=%.1fx+%.1f\" % (new_z[0],new_z[1])\n",
    "plt.scatter(np.log10(h_array), np.log10(new_data_array), label=r\"new $%s$\" % new_equation)\n",
    "\n",
    "old_z = np.polyfit(np.log10(h_array), np.log10(old_data_array), 1)\n",
    "old_p = np.poly1d(old_z)\n",
    "plt.plot(np.log10(h_array), old_p(np.log10(h_array)), '-')\n",
    "old_equation = \"y=%.1fx+%.1f\" % (old_z[0],old_z[1])\n",
    "plt.scatter(np.log10(h_array), np.log10(old_data_array), label=r\"old $%s$\" % old_equation)\n",
    "\n",
    "new_lambda_z = np.polyfit(np.log10(h_array), np.log10(new_lambda_data_array), 1)\n",
    "new_lambda_p = np.poly1d(new_lambda_z)\n",
    "plt.plot(np.log10(h_array), new_lambda_p(np.log10(h_array)), '-')\n",
    "new_lambda_equation = \"y=%.1fx+%.1f\" % (new_lambda_z[0],new_lambda_z[1])\n",
    "plt.scatter(np.log10(h_array), np.log10(new_lambda_data_array), label=r\"new lambda $%s$\" % new_lambda_equation)\n",
    "\n",
    "old_lambda_z = np.polyfit(np.log10(h_array), np.log10(old_lambda_data_array), 1)\n",
    "old_lambda_p = np.poly1d(old_lambda_z)\n",
    "plt.plot(np.log10(h_array), old_lambda_p(np.log10(h_array)), '-')\n",
    "old_lambda_equation = \"y=%.1fx+%.1f\" % (old_lambda_z[0],old_lambda_z[1])\n",
    "plt.scatter(np.log10(h_array), np.log10(old_lambda_data_array), label=r\"old lambda $%s$\" % old_lambda_equation)\n",
    "\n",
    "plt.legend()\n",
    "plt.show()"
   ]
  },
  {
   "cell_type": "code",
   "execution_count": null,
   "metadata": {},
   "outputs": [],
   "source": []
  }
 ],
 "metadata": {
  "kernelspec": {
   "display_name": "Python 3",
   "language": "python",
   "name": "python3"
  },
  "language_info": {
   "codemirror_mode": {
    "name": "ipython",
    "version": 3
   },
   "file_extension": ".py",
   "mimetype": "text/x-python",
   "name": "python",
   "nbconvert_exporter": "python",
   "pygments_lexer": "ipython3",
   "version": "3.7.1"
  }
 },
 "nbformat": 4,
 "nbformat_minor": 2
}
