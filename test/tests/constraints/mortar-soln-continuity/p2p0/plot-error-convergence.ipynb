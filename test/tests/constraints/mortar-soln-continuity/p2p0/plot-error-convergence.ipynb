{
 "cells": [
  {
   "cell_type": "code",
   "execution_count": 3,
   "metadata": {},
   "outputs": [],
   "source": [
    "import numpy as np\n",
    "import matplotlib.pyplot as plt\n",
    "\n",
    "h_array = np.array([1, 2, 4, 8, 16])\n",
    "new_data_array = np.array([1.174097e-4, 1.474051e-5, 1.855189e-6, 2.349379e-7, 3.011169e-8])\n",
    "new_lambda_data_array = np.array([2.778725e-2, 1.389195e-2, 6.945713e-3, 3.472817e-3, 1.736402e-3])\n",
    "old_data_array = np.array([1.204081e-4, 1.489386e-5, 1.854920e-6, 2.326311e-7, 2.943171e-8])\n",
    "old_lambda_data_array = np.array([3.813448e-2, 1.159939e-2, 5.533645e-3, 3.001594e-3, 1.591083e-3])\n",
    "\n",
    "new_z = np.polyfit(np.log10(h_array), np.log10(new_data_array), 1)\n",
    "new_p = np.poly1d(new_z)\n",
    "plt.plot(np.log10(h_array), new_p(np.log10(h_array)), '-')\n",
    "new_equation = \"y=%.1fx+%.1f\" % (new_z[0],new_z[1])\n",
    "plt.scatter(np.log10(h_array), np.log10(new_data_array), label=r\"new $%s$\" % new_equation)\n",
    "\n",
    "old_z = np.polyfit(np.log10(h_array), np.log10(old_data_array), 1)\n",
    "old_p = np.poly1d(old_z)\n",
    "plt.plot(np.log10(h_array), old_p(np.log10(h_array)), '-')\n",
    "old_equation = \"y=%.1fx+%.1f\" % (old_z[0],old_z[1])\n",
    "plt.scatter(np.log10(h_array), np.log10(old_data_array), label=r\"old $%s$\" % old_equation)\n",
    "\n",
    "new_lambda_z = np.polyfit(np.log10(h_array), np.log10(new_lambda_data_array), 1)\n",
    "new_lambda_p = np.poly1d(new_lambda_z)\n",
    "plt.plot(np.log10(h_array), new_lambda_p(np.log10(h_array)), '-')\n",
    "new_lambda_equation = \"y=%.1fx+%.1f\" % (new_lambda_z[0],new_lambda_z[1])\n",
    "plt.scatter(np.log10(h_array), np.log10(new_lambda_data_array), label=r\"new lambda $%s$\" % new_lambda_equation)\n",
    "\n",
    "old_lambda_z = np.polyfit(np.log10(h_array), np.log10(old_lambda_data_array), 1)\n",
    "old_lambda_p = np.poly1d(old_lambda_z)\n",
    "plt.plot(np.log10(h_array), old_lambda_p(np.log10(h_array)), '-')\n",
    "old_lambda_equation = \"y=%.1fx+%.1f\" % (old_lambda_z[0],old_lambda_z[1])\n",
    "plt.scatter(np.log10(h_array), np.log10(old_lambda_data_array), label=r\"old lambda $%s$\" % old_lambda_equation)\n",
    "\n",
    "plt.legend()\n",
    "plt.show()"
   ]
  },
  {
   "cell_type": "code",
   "execution_count": null,
   "metadata": {},
   "outputs": [],
   "source": []
  }
 ],
 "metadata": {
  "kernelspec": {
   "display_name": "Python 3",
   "language": "python",
   "name": "python3"
  },
  "language_info": {
   "codemirror_mode": {
    "name": "ipython",
    "version": 3
   },
   "file_extension": ".py",
   "mimetype": "text/x-python",
   "name": "python",
   "nbconvert_exporter": "python",
   "pygments_lexer": "ipython3",
   "version": "3.7.1"
  }
 },
 "nbformat": 4,
 "nbformat_minor": 2
}
