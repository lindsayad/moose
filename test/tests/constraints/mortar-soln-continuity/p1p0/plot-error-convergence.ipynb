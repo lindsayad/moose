{
 "cells": [
  {
   "cell_type": "code",
   "execution_count": 1,
   "metadata": {},
   "outputs": [],
   "source": [
    "import numpy as np\n",
    "import matplotlib.pyplot as plt\n",
    "\n",
    "h_array = np.array([1, 2, 4, 8, 16])\n",
    "new_data_array = np.array([5.045471e-3, 1.1249848e-3, 3.116819e-4, 7.786808e-5, 1.946346e-5])\n",
    "new_lambda_data_array = np.array([5.06136e-1, 1.824650e-1, 6.52641e-2, 2.331768e-2, 8.361316e-3])\n",
    "old_data_array = np.array([4.161727e-2, 6.806357e-3, 1.160449e-3, 2.0758983e-4, 3.884117e-5])\n",
    "old_lambda_data_array = np.array([4.543806e2, 3.987512e2, 3.900782e2, 3.891204e2, 3.891130e2])\n",
    "\n",
    "new_z = np.polyfit(np.log10(h_array), np.log10(new_data_array), 1)\n",
    "new_p = np.poly1d(new_z)\n",
    "plt.plot(np.log10(h_array), new_p(np.log10(h_array)), '-')\n",
    "new_equation = \"y=%.1fx+%.1f\" % (new_z[0],new_z[1])\n",
    "plt.scatter(np.log10(h_array), np.log10(new_data_array), label=r\"new $%s$\" % new_equation)\n",
    "\n",
    "old_z = np.polyfit(np.log10(h_array), np.log10(old_data_array), 1)\n",
    "old_p = np.poly1d(old_z)\n",
    "plt.plot(np.log10(h_array), old_p(np.log10(h_array)), '-')\n",
    "old_equation = \"y=%.1fx+%.1f\" % (old_z[0],old_z[1])\n",
    "plt.scatter(np.log10(h_array), np.log10(old_data_array), label=r\"old $%s$\" % old_equation)\n",
    "\n",
    "new_lambda_z = np.polyfit(np.log10(h_array), np.log10(new_lambda_data_array), 1)\n",
    "new_lambda_p = np.poly1d(new_lambda_z)\n",
    "plt.plot(np.log10(h_array), new_lambda_p(np.log10(h_array)), '-')\n",
    "new_lambda_equation = \"y=%.1fx+%.1f\" % (new_lambda_z[0],new_lambda_z[1])\n",
    "plt.scatter(np.log10(h_array), np.log10(new_lambda_data_array), label=r\"new lambda $%s$\" % new_lambda_equation)\n",
    "\n",
    "old_lambda_z = np.polyfit(np.log10(h_array), np.log10(old_lambda_data_array), 1)\n",
    "old_lambda_p = np.poly1d(old_lambda_z)\n",
    "plt.plot(np.log10(h_array), old_lambda_p(np.log10(h_array)), '-')\n",
    "old_lambda_equation = \"y=%.1fx+%.1f\" % (old_lambda_z[0],old_lambda_z[1])\n",
    "plt.scatter(np.log10(h_array), np.log10(old_lambda_data_array), label=r\"old lambda $%s$\" % old_lambda_equation)\n",
    "\n",
    "plt.legend()\n",
    "plt.show()"
   ]
  },
  {
   "cell_type": "code",
   "execution_count": null,
   "metadata": {},
   "outputs": [],
   "source": []
  }
 ],
 "metadata": {
  "kernelspec": {
   "display_name": "Python 3",
   "language": "python",
   "name": "python3"
  },
  "language_info": {
   "codemirror_mode": {
    "name": "ipython",
    "version": 3
   },
   "file_extension": ".py",
   "mimetype": "text/x-python",
   "name": "python",
   "nbconvert_exporter": "python",
   "pygments_lexer": "ipython3",
   "version": "3.7.1"
  }
 },
 "nbformat": 4,
 "nbformat_minor": 2
}
