{
 "cells": [
  {
   "cell_type": "code",
   "execution_count": null,
   "metadata": {},
   "outputs": [],
   "source": [
    "import numpy as np\n",
    "import matplotlib.pyplot as plt\n",
    "\n",
    "h_array = np.array([1, 2, 4, 8])\n",
    "new_data_array = np.array([2.287977e-7, 1.820202e-6, 1.463609e-5, 1.169189e-4])\n",
    "new_lambda_data_array = np.array([1.187514e-5, 5.867544e-5, 3.037694e-4, 1.618013e-3])\n",
    "old_data_array = np.array([2.288274e-7, 1.830759e-6, 1.464749e-5, 1.171740e-4])\n",
    "old_lambda_data_array = np.array([7.181895e-5, 3.729932e-4, 1.973201e-3, 1.035874e-2])\n",
    "\n",
    "new_z = np.polyfit(np.log10(h_array), np.log10(new_data_array), 1)\n",
    "new_p = np.poly1d(new_z)\n",
    "plt.plot(np.log10(h_array), new_p(np.log10(h_array)), '-')\n",
    "new_equation = \"y=%.1fx+%.1f\" % (new_z[0],new_z[1])\n",
    "plt.scatter(np.log10(h_array), np.log10(new_data_array), label=r\"new $%s$\" % new_equation)\n",
    "\n",
    "old_z = np.polyfit(np.log10(h_array), np.log10(old_data_array), 1)\n",
    "old_p = np.poly1d(old_z)\n",
    "plt.plot(np.log10(h_array), old_p(np.log10(h_array)), '-')\n",
    "old_equation = \"y=%.1fx+%.1f\" % (old_z[0],old_z[1])\n",
    "plt.scatter(np.log10(h_array), np.log10(old_data_array), label=r\"old $%s$\" % old_equation)\n",
    "\n",
    "new_lambda_z = np.polyfit(np.log10(h_array), np.log10(new_lambda_data_array), 1)\n",
    "new_lambda_p = np.poly1d(new_lambda_z)\n",
    "plt.plot(np.log10(h_array), new_lambda_p(np.log10(h_array)), '-')\n",
    "new_lambda_equation = \"y=%.1fx+%.1f\" % (new_lambda_z[0],new_lambda_z[1])\n",
    "plt.scatter(np.log10(h_array), np.log10(new_lambda_data_array), label=r\"new lambda $%s$\" % new_lambda_equation)\n",
    "\n",
    "old_lambda_z = np.polyfit(np.log10(h_array), np.log10(old_lambda_data_array), 1)\n",
    "old_lambda_p = np.poly1d(old_lambda_z)\n",
    "plt.plot(np.log10(h_array), old_lambda_p(np.log10(h_array)), '-')\n",
    "old_lambda_equation = \"y=%.1fx+%.1f\" % (old_lambda_z[0],old_lambda_z[1])\n",
    "plt.scatter(np.log10(h_array), np.log10(old_lambda_data_array), label=r\"old lambda $%s$\" % old_lambda_equation)\n",
    "\n",
    "plt.legend()\n",
    "plt.show()"
   ]
  },
  {
   "cell_type": "code",
   "execution_count": null,
   "metadata": {},
   "outputs": [],
   "source": []
  }
 ],
 "metadata": {
  "kernelspec": {
   "display_name": "Python 3",
   "language": "python",
   "name": "python3"
  },
  "language_info": {
   "codemirror_mode": {
    "name": "ipython",
    "version": 3
   },
   "file_extension": ".py",
   "mimetype": "text/x-python",
   "name": "python",
   "nbconvert_exporter": "python",
   "pygments_lexer": "ipython3",
   "version": "3.7.1"
  }
 },
 "nbformat": 4,
 "nbformat_minor": 2
}
